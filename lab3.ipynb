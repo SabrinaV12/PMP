{
  "cells": [
    {
      "cell_type": "code",
      "execution_count": 2,
      "metadata": {},
      "outputs": [
        {
          "name": "stdout",
          "output_type": "stream",
          "text": [
            "(L ⟂ O | S)\n",
            "(M ⟂ O | S)\n",
            "True\n",
            "+------+----------+\n",
            "| S    |   phi(S) |\n",
            "+======+==========+\n",
            "| S(0) |   0.9492 |\n",
            "+------+----------+\n",
            "| S(1) |   0.0508 |\n",
            "+------+----------+\n"
          ]
        }
      ],
      "source": [
        "#a\n",
        "from pgmpy.models import DiscreteBayesianNetwork\n",
        "\n",
        "model = DiscreteBayesianNetwork([('S', 'O'), ('S', 'L'), ('S', 'M'), ('L', 'M')])\n",
        "ind = model.get_independencies()\n",
        "print(ind)\n",
        "\n",
        "#b\n",
        "\n",
        "from pgmpy.models import DiscreteBayesianNetwork\n",
        "from pgmpy.factors.discrete import TabularCPD\n",
        "from pgmpy.inference import VariableElimination\n",
        "\n",
        "model = DiscreteBayesianNetwork([('S', 'O'), ('S', 'L'), ('S', 'M'), ('L', 'M')])\n",
        "\n",
        "cpd_s = TabularCPD(variable='S', variable_card=2, values=[[0.6], [0.4]])\n",
        "cpd_o = TabularCPD(variable='O', variable_card=2,\n",
        "                   values=[[0.3, 0.9],\n",
        "                           [0.7, 0.1]],\n",
        "                   evidence=['S'], evidence_card=[2])\n",
        "cpd_l = TabularCPD(variable='L', variable_card=2,\n",
        "                   values=[[0.2, 0.7],\n",
        "                           [0.8, 0.3]],\n",
        "                   evidence=['S'], evidence_card=[2])\n",
        "cpd_m = TabularCPD(variable='M', variable_card=2,\n",
        "    values=[ [0.8, 0.4, 0.5, 0.1],\n",
        "        [0.2, 0.6, 0.5, 0.9]],\n",
        "    evidence=['S', 'L'],\n",
        "    evidence_card=[2, 2]\n",
        ")\n",
        "\n",
        "\n",
        "model.add_cpds(cpd_s, cpd_o, cpd_l, cpd_m)\n",
        "\n",
        "print(model.check_model())\n",
        "\n",
        "inference = VariableElimination(model)\n",
        "posterior = inference.query(variables=['S'], evidence={'O': 1, 'L': 1, 'M': 1})\n",
        "print(posterior)"
      ]
    }
  ],
  "metadata": {
    "colab": {
      "include_colab_link": true,
      "provenance": []
    },
    "kernelspec": {
      "display_name": "pymc_env",
      "language": "python",
      "name": "python3"
    },
    "language_info": {
      "codemirror_mode": {
        "name": "ipython",
        "version": 3
      },
      "file_extension": ".py",
      "mimetype": "text/x-python",
      "name": "python",
      "nbconvert_exporter": "python",
      "pygments_lexer": "ipython3",
      "version": "3.11.13"
    }
  },
  "nbformat": 4,
  "nbformat_minor": 0
}
